{
  "cells": [
    {
      "cell_type": "code",
      "execution_count": 1,
      "metadata": {
        "id": "_czQ2d8ld94D"
      },
      "outputs": [],
      "source": [
        "import tensorflow as tf\n",
        "import seaborn as sns\n",
        "import numpy as np\n",
        "import pandas as pd \n",
        "import matplotlib.pyplot as plt "
      ]
    },
    {
      "cell_type": "code",
      "execution_count": 2,
      "metadata": {
        "id": "-9YRDaFRd94F"
      },
      "outputs": [],
      "source": [
        "cifgar10 = tf.keras.datasets.cifar10\n",
        "\n",
        "(X_train, y_train), (x_test, y_test) = cifgar10.load_data()"
      ]
    },
    {
      "cell_type": "code",
      "execution_count": 3,
      "metadata": {
        "id": "h6UHqrgJd94G"
      },
      "outputs": [],
      "source": [
        "y_train = y_train.flatten()\n",
        "y_test = y_test.flatten()"
      ]
    },
    {
      "cell_type": "code",
      "execution_count": 4,
      "metadata": {
        "colab": {
          "base_uri": "https://localhost:8080/",
          "height": 652
        },
        "id": "VA7KbYpOd94G",
        "outputId": "a8727e7e-3e77-4085-9a1e-8d2ad6da0987"
      },
      "outputs": [
        {
          "name": "stderr",
          "output_type": "stream",
          "text": [
            "/usr/local/lib/python3.7/dist-packages/seaborn/_decorators.py:43: FutureWarning: Pass the following variable as a keyword arg: x. From version 0.12, the only valid positional argument will be `data`, and passing other arguments without an explicit keyword will result in an error or misinterpretation.\n",
            "  FutureWarning\n"
          ]
        },
        {
          "data": {
            "text/plain": [
              "[[Text(0, 0, 'airplane'),\n",
              "  Text(0, 0, 'automobile'),\n",
              "  Text(0, 0, 'bird'),\n",
              "  Text(0, 0, 'cat'),\n",
              "  Text(0, 0, 'deer'),\n",
              "  Text(0, 0, 'dog'),\n",
              "  Text(0, 0, 'frog'),\n",
              "  Text(0, 0, 'horse'),\n",
              "  Text(0, 0, 'ship'),\n",
              "  Text(0, 0, 'truck')]]"
            ]
          },
          "execution_count": 4,
          "metadata": {},
          "output_type": "execute_result"
        },
        {
          "data": {
            "image/png": "[encoded data removed]",
            "text/plain": [
              "<Figure size 720x504 with 1 Axes>"
            ]
          },
          "metadata": {
            "needs_background": "light"
          },
          "output_type": "display_data"
        }
      ],
      "source": [
        "classes = ['airplane', 'automobile', 'bird', 'cat', 'deer', 'dog', 'frog', 'horse', 'ship', 'truck']\n",
        "\n",
        "plt.figure(figsize=(10,7))\n",
        "p = sns.countplot(y_train.flatten())\n",
        "p.set(xticklabels = classes)"
      ]
    },
    {
      "cell_type": "markdown",
      "metadata": {
        "id": "eTY9e5mbd94I"
      },
      "source": [
        "Normalising and reshaping"
      ]
    },
    {
      "cell_type": "code",
      "execution_count": 5,
      "metadata": {
        "colab": {
          "base_uri": "https://localhost:8080/"
        },
        "id": "LHQLVDL5d94M",
        "outputId": "a126d51b-4cec-4145-8fe7-c17e832e12cb"
      },
      "outputs": [
        {
          "data": {
            "text/plain": [
              "(50000, 32, 32, 3)"
            ]
          },
          "execution_count": 5,
          "metadata": {},
          "output_type": "execute_result"
        }
      ],
      "source": [
        "X_train.shape"
      ]
    },
    {
      "cell_type": "code",
      "execution_count": 6,
      "metadata": {
        "colab": {
          "base_uri": "https://localhost:8080/"
        },
        "id": "ZdIQjWItd94M",
        "outputId": "f398bfca-492e-4b4e-b62a-53195cffec04"
      },
      "outputs": [
        {
          "data": {
            "text/plain": [
              "50000"
            ]
          },
          "execution_count": 6,
          "metadata": {},
          "output_type": "execute_result"
        }
      ],
      "source": [
        "X_train.shape[0]"
      ]
    },
    {
      "cell_type": "markdown",
      "metadata": {
        "id": "xponzfASd94M"
      },
      "source": []
    },
    {
      "cell_type": "code",
      "execution_count": 7,
      "metadata": {
        "id": "MtAbfT_ld94N"
      },
      "outputs": [],
      "source": [
        "input_shape=(32,32,3)\n",
        "\n",
        "X_train = X_train.reshape(50000, 32,32,3)\n",
        "\n",
        "X_train = X_train/255.0\n",
        "\n",
        "X_test = x_test.reshape(x_test.shape[0], x_test.shape[1], x_test.shape[2],3)\n",
        "\n",
        "X_test = x_test/255.0"
      ]
    },
    {
      "cell_type": "code",
      "execution_count": 8,
      "metadata": {
        "colab": {
          "base_uri": "https://localhost:8080/"
        },
        "id": "Af1oohsNd94N",
        "outputId": "70cdd50a-cb00-4b56-b004-18a8b15971cb"
      },
      "outputs": [
        {
          "data": {
            "text/plain": [
              "(50000, 32, 32, 3)"
            ]
          },
          "execution_count": 8,
          "metadata": {},
          "output_type": "execute_result"
        }
      ],
      "source": [
        "X_train.shape"
      ]
    },
    {
      "cell_type": "code",
      "execution_count": 9,
      "metadata": {
        "colab": {
          "base_uri": "https://localhost:8080/"
        },
        "id": "_1MrZ7C9d94N",
        "outputId": "ccd86dae-dbef-494e-ce3e-0f4fbdffcfb6"
      },
      "outputs": [
        {
          "data": {
            "text/plain": [
              "(10000, 32, 32, 3)"
            ]
          },
          "execution_count": 9,
          "metadata": {},
          "output_type": "execute_result"
        }
      ],
      "source": [
        "X_test.shape"
      ]
    },
    {
      "cell_type": "code",
      "execution_count": 10,
      "metadata": {
        "id": "wshsDTEad94O"
      },
      "outputs": [],
      "source": [
        "y_train = tf.one_hot(y_train.astype(np.int32), depth=10)\n",
        "y_test = tf.one_hot(y_test.astype(np.int32), depth=10)\n"
      ]
    },
    {
      "cell_type": "code",
      "execution_count": 11,
      "metadata": {
        "colab": {
          "base_uri": "https://localhost:8080/"
        },
        "id": "9nUGcTlGd94O",
        "outputId": "dc19fabb-e70e-49cc-ec54-b1a7ca713808"
      },
      "outputs": [
        {
          "data": {
            "text/plain": [
              "<tf.Tensor: shape=(10,), dtype=float32, numpy=array([0., 0., 0., 0., 0., 0., 1., 0., 0., 0.], dtype=float32)>"
            ]
          },
          "execution_count": 11,
          "metadata": {},
          "output_type": "execute_result"
        }
      ],
      "source": [
        "y_train[0]"
      ]
    },
    {
      "cell_type": "code",
      "execution_count": 12,
      "metadata": {
        "colab": {
          "base_uri": "https://localhost:8080/",
          "height": 283
        },
        "id": "XAUsIqREd94O",
        "outputId": "35874ca7-f6b5-40d5-fa2a-c13ad3955f05"
      },
      "outputs": [
        {
          "name": "stdout",
          "output_type": "stream",
          "text": [
            "tf.Tensor([0. 0. 0. 0. 1. 0. 0. 0. 0. 0.], shape=(10,), dtype=float32)\n"
          ]
        },
        {
          "data": {
            "image/png": "[encoded data removed]",
            "text/plain": [
              "<Figure size 432x288 with 1 Axes>"
            ]
          },
          "metadata": {
            "needs_background": "light"
          },
          "output_type": "display_data"
        }
      ],
      "source": [
        "plt.imshow(X_train[10])\n",
        "print(y_train[10])"
      ]
    },
    {
      "cell_type": "code",
      "execution_count": 13,
      "metadata": {
        "id": "d2DB876xd94P"
      },
      "outputs": [],
      "source": [
        "batch_size = 32\n",
        "num_classes = 10\n",
        "epochs = 50"
      ]
    },
    {
      "cell_type": "code",
      "execution_count": 14,
      "metadata": {
        "id": "glNxNS7Od94P"
      },
      "outputs": [],
      "source": [
        "from tensorflow.keras import Sequential, layers"
      ]
    },
    {
      "cell_type": "code",
      "execution_count": 15,
      "metadata": {
        "id": "ZN-rQSRid94P"
      },
      "outputs": [],
      "source": [
        "conv_layers = [\n",
        "    layers.Conv2D(64, kernel_size = [3,3], padding = 'same', activation = tf.nn.relu),\n",
        "    layers.Conv2D(64, kernel_size = [3,3], padding = 'same', activation = tf.nn.relu),\n",
        "    layers.MaxPool2D(pool_size = [2,2], strides = 2, padding = 'same'),\n",
        "    # Conv-Conv-Pooling unit 2, output channel increases to 128, half width and height\n",
        "    layers.Conv2D(128, kernel_size=[3,3], padding='same', activation=tf.nn.relu),\n",
        "    layers.Conv2D(128, kernel_size=[3,3], padding='same', activation=tf.nn.relu),\n",
        "    layers.MaxPool2D(pool_size = [2,2], strides = 2, padding = 'same'),\n",
        "    # Conv-Conv-Pooling unit 3, output channel increases to 256,half width and height\n",
        "    layers.Conv2D(256, kernel_size=[3,3], padding='same', activation=tf.nn.relu),\n",
        "    layers.Conv2D(256, kernel_size=[3,3], padding='same', activation=tf.nn.relu),\n",
        "    layers.MaxPool2D(pool_size = [2,2], strides = 2, padding = 'same'),\n",
        "    # Conv-Conv-Pooling unit 4, output channel increases to 512, half width and height\n",
        "    layers.Conv2D(512, kernel_size=[3,3], padding='same', activation=tf.nn.relu),\n",
        "    layers.Conv2D(512, kernel_size=[3,3], padding='same', activation=tf.nn.relu),\n",
        "    layers.MaxPool2D(pool_size = [2,2], strides = 2, padding = 'same'),\n",
        "    # Conv-Conv-Pooling unit 5, output channel increases to 512, half width and height\n",
        "    layers.Conv2D(512, kernel_size=[3,3], padding='same', activation=tf.nn.relu),\n",
        "    layers.Conv2D(512, kernel_size=[3,3], padding='same', activation=tf.nn.relu),\n",
        "    layers.MaxPool2D(pool_size = [2,2], strides = 2, padding = 'same'),\n",
        "    layers.Flatten(),\n",
        "    layers.Dense(256, activation=tf.nn.relu),\n",
        "    layers.Dense(128, activation=tf.nn.relu),\n",
        "    layers.Dense(10, activation=tf.nn.relu),\n",
        "]\n",
        "\n",
        "conv_net = Sequential(conv_layers)"
      ]
    },
    {
      "cell_type": "code",
      "execution_count": 16,
      "metadata": {
        "colab": {
          "base_uri": "https://localhost:8080/"
        },
        "id": "2mK0j99Jd94Q",
        "outputId": "74bf867a-ba2d-49e1-d2fe-fd1dcfb56a99"
      },
      "outputs": [
        {
          "name": "stdout",
          "output_type": "stream",
          "text": [
            "Model: \"sequential\"\n",
            "_________________________________________________________________\n",
            " Layer (type)                Output Shape              Param #   \n",
            "=================================================================\n",
            " conv2d (Conv2D)             (4, 32, 32, 64)           1792      \n",
            "                                                                 \n",
            " conv2d_1 (Conv2D)           (4, 32, 32, 64)           36928     \n",
            "                                                                 \n",
            " max_pooling2d (MaxPooling2D  (4, 16, 16, 64)          0         \n",
            " )                                                               \n",
            "                                                                 \n",
            " conv2d_2 (Conv2D)           (4, 16, 16, 128)          73856     \n",
            "                                                                 \n",
            " conv2d_3 (Conv2D)           (4, 16, 16, 128)          147584    \n",
            "                                                                 \n",
            " max_pooling2d_1 (MaxPooling  (4, 8, 8, 128)           0         \n",
            " 2D)                                                             \n",
            "                                                                 \n",
            " conv2d_4 (Conv2D)           (4, 8, 8, 256)            295168    \n",
            "                                                                 \n",
            " conv2d_5 (Conv2D)           (4, 8, 8, 256)            590080    \n",
            "                                                                 \n",
            " max_pooling2d_2 (MaxPooling  (4, 4, 4, 256)           0         \n",
            " 2D)                                                             \n",
            "                                                                 \n",
            " conv2d_6 (Conv2D)           (4, 4, 4, 512)            1180160   \n",
            "                                                                 \n",
            " conv2d_7 (Conv2D)           (4, 4, 4, 512)            2359808   \n",
            "                                                                 \n",
            " max_pooling2d_3 (MaxPooling  (4, 2, 2, 512)           0         \n",
            " 2D)                                                             \n",
            "                                                                 \n",
            " conv2d_8 (Conv2D)           (4, 2, 2, 512)            2359808   \n",
            "                                                                 \n",
            " conv2d_9 (Conv2D)           (4, 2, 2, 512)            2359808   \n",
            "                                                                 \n",
            " max_pooling2d_4 (MaxPooling  (4, 1, 1, 512)           0         \n",
            " 2D)                                                             \n",
            "                                                                 \n",
            " flatten (Flatten)           (4, 512)                  0         \n",
            "                                                                 \n",
            " dense (Dense)               (4, 256)                  131328    \n",
            "                                                                 \n",
            " dense_1 (Dense)             (4, 128)                  32896     \n",
            "                                                                 \n",
            " dense_2 (Dense)             (4, 10)                   1290      \n",
            "                                                                 \n",
            "=================================================================\n",
            "Total params: 9,570,506\n",
            "Trainable params: 9,570,506\n",
            "Non-trainable params: 0\n",
            "_________________________________________________________________\n"
          ]
        }
      ],
      "source": [
        "#build the network and print parameter info \n",
        "conv_net.build(input_shape=[4, 32, 32, 3])\n",
        "conv_net.summary()"
      ]
    },
    {
      "cell_type": "code",
      "execution_count": 17,
      "metadata": {
        "id": "IUL48rI7d94Q"
      },
      "outputs": [],
      "source": [
        "conv_net.compile(optimizer= 'adam',\n",
        "    loss='categorical_crossentropy',\n",
        "    metrics = 'acc')"
      ]
    },
    {
      "cell_type": "code",
      "execution_count": 18,
      "metadata": {
        "colab": {
          "base_uri": "https://localhost:8080/"
        },
        "id": "DdN-HZ58d94R",
        "outputId": "a060b317-4fa6-4718-e428-025d9f3766d5"
      },
      "outputs": [
        {
          "name": "stdout",
          "output_type": "stream",
          "text": [
            "Epoch 1/50\n",
            "1250/1250 [==============================] - 69s 50ms/step - loss: 8.8295 - acc: 0.1324 - val_loss: 8.9719 - val_acc: 0.0980\n",
            "Epoch 2/50\n",
            "1250/1250 [==============================] - 61s 49ms/step - loss: 8.7679 - acc: 0.1560 - val_loss: 8.8366 - val_acc: 0.1941\n",
            "Epoch 3/50\n",
            "1250/1250 [==============================] - 61s 48ms/step - loss: 8.7613 - acc: 0.1600 - val_loss: 8.8304 - val_acc: 0.1842\n",
            "Epoch 4/50\n",
            "1250/1250 [==============================] - 61s 48ms/step - loss: 8.7290 - acc: 0.1752 - val_loss: 8.8230 - val_acc: 0.1856\n",
            "Epoch 5/50\n",
            "1250/1250 [==============================] - 61s 49ms/step - loss: 8.6959 - acc: 0.1846 - val_loss: 8.9516 - val_acc: 0.1326\n",
            "Epoch 6/50\n",
            "1250/1250 [==============================] - 61s 49ms/step - loss: 8.6682 - acc: 0.1940 - val_loss: 8.7783 - val_acc: 0.2023\n",
            "Epoch 7/50\n",
            "1250/1250 [==============================] - 61s 48ms/step - loss: 8.6848 - acc: 0.1849 - val_loss: 8.9717 - val_acc: 0.1065\n",
            "Epoch 8/50\n",
            "1250/1250 [==============================] - 61s 49ms/step - loss: 8.3018 - acc: 0.1597 - val_loss: 7.4079 - val_acc: 0.2095\n",
            "Epoch 9/50\n",
            "1250/1250 [==============================] - 61s 49ms/step - loss: 7.2986 - acc: 0.2088 - val_loss: 7.3980 - val_acc: 0.2184\n",
            "Epoch 10/50\n",
            "1250/1250 [==============================] - 62s 50ms/step - loss: 7.2980 - acc: 0.2144 - val_loss: 7.4186 - val_acc: 0.1817\n",
            "Epoch 11/50\n",
            "1250/1250 [==============================] - 62s 50ms/step - loss: 7.2735 - acc: 0.2191 - val_loss: 7.3465 - val_acc: 0.2445\n",
            "Epoch 12/50\n",
            "1250/1250 [==============================] - 61s 49ms/step - loss: 7.2305 - acc: 0.2542 - val_loss: 7.3053 - val_acc: 0.2630\n",
            "Epoch 13/50\n",
            "1250/1250 [==============================] - 61s 49ms/step - loss: 7.2225 - acc: 0.2623 - val_loss: 7.3263 - val_acc: 0.2629\n",
            "Epoch 14/50\n",
            "1250/1250 [==============================] - 61s 49ms/step - loss: 7.2148 - acc: 0.2615 - val_loss: 7.2714 - val_acc: 0.2812\n",
            "Epoch 15/50\n",
            "1250/1250 [==============================] - 61s 49ms/step - loss: 7.1812 - acc: 0.2735 - val_loss: 7.2529 - val_acc: 0.2909\n",
            "Epoch 16/50\n",
            "1250/1250 [==============================] - 61s 49ms/step - loss: 7.2004 - acc: 0.2655 - val_loss: 7.2969 - val_acc: 0.2655\n",
            "Epoch 17/50\n",
            "1250/1250 [==============================] - 61s 49ms/step - loss: 7.2719 - acc: 0.2344 - val_loss: 7.3874 - val_acc: 0.2429\n",
            "Epoch 18/50\n",
            "1250/1250 [==============================] - 61s 49ms/step - loss: 7.2339 - acc: 0.2407 - val_loss: 7.3292 - val_acc: 0.2554\n",
            "Epoch 19/50\n",
            "1250/1250 [==============================] - 63s 50ms/step - loss: 7.2728 - acc: 0.2256 - val_loss: 7.3589 - val_acc: 0.2298\n",
            "Epoch 20/50\n",
            "1250/1250 [==============================] - 63s 50ms/step - loss: 7.2633 - acc: 0.2318 - val_loss: 7.2960 - val_acc: 0.2717\n",
            "Epoch 21/50\n",
            "1250/1250 [==============================] - 61s 49ms/step - loss: 7.1447 - acc: 0.2987 - val_loss: 7.2229 - val_acc: 0.3023\n",
            "Epoch 22/50\n",
            "1250/1250 [==============================] - 62s 49ms/step - loss: 7.1505 - acc: 0.2941 - val_loss: 7.2662 - val_acc: 0.2889\n",
            "Epoch 23/50\n",
            "1250/1250 [==============================] - 61s 49ms/step - loss: 7.2713 - acc: 0.2448 - val_loss: 7.2954 - val_acc: 0.2825\n",
            "Epoch 24/50\n",
            "1250/1250 [==============================] - 62s 50ms/step - loss: 7.2112 - acc: 0.2666 - val_loss: 7.2949 - val_acc: 0.2745\n",
            "Epoch 25/50\n",
            "1250/1250 [==============================] - 62s 50ms/step - loss: 7.1324 - acc: 0.3000 - val_loss: 7.2157 - val_acc: 0.3120\n",
            "Epoch 26/50\n",
            "1250/1250 [==============================] - 62s 49ms/step - loss: 7.1856 - acc: 0.2751 - val_loss: 7.3263 - val_acc: 0.2667\n",
            "Epoch 27/50\n",
            "1250/1250 [==============================] - 61s 49ms/step - loss: 7.1322 - acc: 0.3095 - val_loss: 7.1956 - val_acc: 0.3321\n",
            "Epoch 28/50\n",
            "1250/1250 [==============================] - 61s 49ms/step - loss: 7.0356 - acc: 0.3363 - val_loss: 5.8334 - val_acc: 0.3394\n",
            "Epoch 29/50\n",
            "1250/1250 [==============================] - 61s 49ms/step - loss: 4.6220 - acc: 0.3371 - val_loss: 4.4825 - val_acc: 0.3317\n",
            "Epoch 30/50\n",
            "1250/1250 [==============================] - 62s 50ms/step - loss: 4.3805 - acc: 0.3395 - val_loss: 4.3311 - val_acc: 0.3887\n",
            "Epoch 31/50\n",
            "1250/1250 [==============================] - 62s 49ms/step - loss: 4.3926 - acc: 0.3295 - val_loss: 4.5400 - val_acc: 0.2849\n",
            "Epoch 32/50\n",
            "1250/1250 [==============================] - 61s 49ms/step - loss: 4.3908 - acc: 0.3366 - val_loss: 4.3871 - val_acc: 0.3580\n",
            "Epoch 33/50\n",
            "1250/1250 [==============================] - 61s 49ms/step - loss: 4.2891 - acc: 0.3742 - val_loss: 4.8997 - val_acc: 0.1252\n",
            "Epoch 34/50\n",
            "1250/1250 [==============================] - 62s 50ms/step - loss: 4.3080 - acc: 0.3625 - val_loss: 4.4200 - val_acc: 0.3275\n",
            "Epoch 35/50\n",
            "1250/1250 [==============================] - 62s 50ms/step - loss: 4.3841 - acc: 0.3405 - val_loss: 4.8112 - val_acc: 0.1651\n",
            "Epoch 36/50\n",
            "1250/1250 [==============================] - 63s 50ms/step - loss: 4.6287 - acc: 0.2204 - val_loss: 4.8871 - val_acc: 0.1199\n",
            "Epoch 37/50\n",
            "1250/1250 [==============================] - 61s 49ms/step - loss: 4.5911 - acc: 0.2387 - val_loss: 4.4631 - val_acc: 0.3071\n",
            "Epoch 38/50\n",
            "1250/1250 [==============================] - 61s 49ms/step - loss: 4.6187 - acc: 0.2313 - val_loss: 4.8011 - val_acc: 0.1855\n",
            "Epoch 39/50\n",
            "1250/1250 [==============================] - 61s 49ms/step - loss: 4.3876 - acc: 0.3251 - val_loss: 4.2533 - val_acc: 0.3979\n",
            "Epoch 40/50\n",
            "1250/1250 [==============================] - 62s 50ms/step - loss: 4.2274 - acc: 0.3902 - val_loss: 4.2777 - val_acc: 0.3572\n",
            "Epoch 41/50\n",
            "1250/1250 [==============================] - 62s 50ms/step - loss: 4.3002 - acc: 0.3595 - val_loss: 4.2273 - val_acc: 0.4093\n",
            "Epoch 42/50\n",
            "1250/1250 [==============================] - 61s 49ms/step - loss: 4.3651 - acc: 0.3428 - val_loss: 4.2611 - val_acc: 0.4129\n",
            "Epoch 43/50\n",
            "1250/1250 [==============================] - 61s 49ms/step - loss: 4.5106 - acc: 0.2796 - val_loss: 4.5753 - val_acc: 0.2727\n",
            "Epoch 44/50\n",
            "1250/1250 [==============================] - 62s 49ms/step - loss: 4.4931 - acc: 0.3034 - val_loss: 4.4077 - val_acc: 0.3591\n",
            "Epoch 45/50\n",
            "1250/1250 [==============================] - 61s 49ms/step - loss: 4.3400 - acc: 0.3641 - val_loss: 4.2623 - val_acc: 0.4136\n",
            "Epoch 46/50\n",
            "1250/1250 [==============================] - 62s 50ms/step - loss: 4.2823 - acc: 0.3899 - val_loss: 4.2380 - val_acc: 0.4325\n",
            "Epoch 47/50\n",
            "1250/1250 [==============================] - 63s 50ms/step - loss: 4.3208 - acc: 0.3776 - val_loss: 4.7356 - val_acc: 0.1923\n",
            "Epoch 48/50\n",
            "1250/1250 [==============================] - 61s 49ms/step - loss: 4.5894 - acc: 0.2625 - val_loss: 4.3600 - val_acc: 0.3925\n",
            "Epoch 49/50\n",
            "1250/1250 [==============================] - 61s 49ms/step - loss: 4.4280 - acc: 0.3358 - val_loss: 4.2915 - val_acc: 0.4058\n",
            "Epoch 50/50\n",
            "1250/1250 [==============================] - 61s 49ms/step - loss: 4.1893 - acc: 0.4216 - val_loss: 4.2168 - val_acc: 0.4317\n"
          ]
        },
        {
          "data": {
            "text/plain": [
              "<keras.callbacks.History at 0x7efd60082b10>"
            ]
          },
          "execution_count": 18,
          "metadata": {},
          "output_type": "execute_result"
        }
      ],
      "source": [
        "conv_net.fit(X_train,y_train, validation_split=0.2, epochs=50, batch_size = 32)"
      ]
    },
    {
      "cell_type": "code",
      "execution_count": null,
      "metadata": {
        "id": "RRGDXU7gRd7t"
      },
      "outputs": [],
      "source": []
    }
  ],
  "metadata": {
    "accelerator": "GPU",
    "colab": {
      "collapsed_sections": [],
      "name": "VGG13.ipynb",
      "provenance": []
    },
    "interpreter": {
      "hash": "8acd2a4c40bb06440d03e583eeea35c6596324a3385dafe16353bbc1939be192"
    },
    "kernelspec": {
      "display_name": "Python 3.10.0 ('tensorflow')",
      "language": "python",
      "name": "python3"
    },
    "language_info": {
      "codemirror_mode": {
        "name": "ipython",
        "version": 3
      },
      "file_extension": ".py",
      "mimetype": "text/x-python",
      "name": "python",
      "nbconvert_exporter": "python",
      "pygments_lexer": "ipython3",
      "version": "3.10.0"
    },
    "orig_nbformat": 4
  },
  "nbformat": 4,
  "nbformat_minor": 0
}
